{
 "cells": [
  {
   "cell_type": "code",
   "execution_count": 39,
   "outputs": [],
   "source": [
    "import pandas as pd\n",
    "import re"
   ],
   "metadata": {
    "collapsed": false,
    "pycharm": {
     "name": "#%%\n"
    }
   }
  },
  {
   "cell_type": "code",
   "execution_count": 40,
   "outputs": [
    {
     "data": {
      "text/plain": "  p-3  p-2  p-1   p0a  p0b  p+1  p+2  p+3  p+4 stem transitivity  \\\n0   ʌ  NaN  NaN   der  NaN  den  NaN  NaN  NaN                TR   \n1   ʌ  NaN  NaN   der  NaN  den    i  NaN  NaN               NTR   \n2   ʌ  NaN  NaN  gard  NaN  NaN  NaN  NaN  NaN               NTR   \n3   ʌ  NaN  NaN  gard  NaN  den  NaN  NaN  NaN                TR   \n4   ʌ  NaN  NaN  gard  NaN  den    i  NaN  NaN               NTR   \n\n                    meaning  \n0           make (sb) urite  \n1           be made urinate  \n2                    return  \n3  return, make (sb) return  \n4               be returned  ",
      "text/html": "<div>\n<style scoped>\n    .dataframe tbody tr th:only-of-type {\n        vertical-align: middle;\n    }\n\n    .dataframe tbody tr th {\n        vertical-align: top;\n    }\n\n    .dataframe thead th {\n        text-align: right;\n    }\n</style>\n<table border=\"1\" class=\"dataframe\">\n  <thead>\n    <tr style=\"text-align: right;\">\n      <th></th>\n      <th>p-3</th>\n      <th>p-2</th>\n      <th>p-1</th>\n      <th>p0a</th>\n      <th>p0b</th>\n      <th>p+1</th>\n      <th>p+2</th>\n      <th>p+3</th>\n      <th>p+4</th>\n      <th>stem transitivity</th>\n      <th>meaning</th>\n    </tr>\n  </thead>\n  <tbody>\n    <tr>\n      <th>0</th>\n      <td>ʌ</td>\n      <td>NaN</td>\n      <td>NaN</td>\n      <td>der</td>\n      <td>NaN</td>\n      <td>den</td>\n      <td>NaN</td>\n      <td>NaN</td>\n      <td>NaN</td>\n      <td>TR</td>\n      <td>make (sb) urite</td>\n    </tr>\n    <tr>\n      <th>1</th>\n      <td>ʌ</td>\n      <td>NaN</td>\n      <td>NaN</td>\n      <td>der</td>\n      <td>NaN</td>\n      <td>den</td>\n      <td>i</td>\n      <td>NaN</td>\n      <td>NaN</td>\n      <td>NTR</td>\n      <td>be made urinate</td>\n    </tr>\n    <tr>\n      <th>2</th>\n      <td>ʌ</td>\n      <td>NaN</td>\n      <td>NaN</td>\n      <td>gard</td>\n      <td>NaN</td>\n      <td>NaN</td>\n      <td>NaN</td>\n      <td>NaN</td>\n      <td>NaN</td>\n      <td>NTR</td>\n      <td>return</td>\n    </tr>\n    <tr>\n      <th>3</th>\n      <td>ʌ</td>\n      <td>NaN</td>\n      <td>NaN</td>\n      <td>gard</td>\n      <td>NaN</td>\n      <td>den</td>\n      <td>NaN</td>\n      <td>NaN</td>\n      <td>NaN</td>\n      <td>TR</td>\n      <td>return, make (sb) return</td>\n    </tr>\n    <tr>\n      <th>4</th>\n      <td>ʌ</td>\n      <td>NaN</td>\n      <td>NaN</td>\n      <td>gard</td>\n      <td>NaN</td>\n      <td>den</td>\n      <td>i</td>\n      <td>NaN</td>\n      <td>NaN</td>\n      <td>NTR</td>\n      <td>be returned</td>\n    </tr>\n  </tbody>\n</table>\n</div>"
     },
     "execution_count": 40,
     "metadata": {},
     "output_type": "execute_result"
    }
   ],
   "source": [
    "from pandas import Series\n",
    "\n",
    "base_forms = pd.read_csv('base_forms.csv')\n",
    "base_forms = base_forms.drop(index=0)\n",
    "base_forms = base_forms.reset_index(drop=True)\n",
    "base_forms.head()\n"
   ],
   "metadata": {
    "collapsed": false,
    "pycharm": {
     "name": "#%%\n"
    }
   }
  },
  {
   "cell_type": "code",
   "execution_count": 41,
   "outputs": [
    {
     "ename": "AttributeError",
     "evalue": "'PresentInflector' object has no attribute 'imperfective'",
     "output_type": "error",
     "traceback": [
      "\u001B[0;31m---------------------------------------------------------------------------\u001B[0m",
      "\u001B[0;31mAttributeError\u001B[0m                            Traceback (most recent call last)",
      "\u001B[0;32m<ipython-input-41-84cc8afa655f>\u001B[0m in \u001B[0;36m<module>\u001B[0;34m\u001B[0m\n\u001B[1;32m    182\u001B[0m                                 \u001B[0;32mtry\u001B[0m\u001B[0;34m:\u001B[0m\u001B[0;34m\u001B[0m\u001B[0;34m\u001B[0m\u001B[0m\n\u001B[1;32m    183\u001B[0m                                         \u001B[0minflector\u001B[0m \u001B[0;34m=\u001B[0m \u001B[0mPresentInflector\u001B[0m\u001B[0;34m(\u001B[0m\u001B[0mrow\u001B[0m\u001B[0;34m,\u001B[0m \u001B[0mmodality\u001B[0m\u001B[0;34m,\u001B[0m \u001B[0mperson\u001B[0m\u001B[0;34m,\u001B[0m \u001B[0maspect\u001B[0m\u001B[0;34m)\u001B[0m\u001B[0;34m\u001B[0m\u001B[0;34m\u001B[0m\u001B[0m\n\u001B[0;32m--> 184\u001B[0;31m \t\t\t\t\tverbs.append(inflector\\\n\u001B[0m\u001B[1;32m    185\u001B[0m                                                 \u001B[0;34m.\u001B[0m\u001B[0mbuild\u001B[0m\u001B[0;34m(\u001B[0m\u001B[0;34m)\u001B[0m\u001B[0;31m\\\u001B[0m\u001B[0;34m\u001B[0m\u001B[0;34m\u001B[0m\u001B[0m\n\u001B[1;32m    186\u001B[0m \t\t\t\t\t\t.view())\n",
      "\u001B[0;32m<ipython-input-41-84cc8afa655f>\u001B[0m in \u001B[0;36mview\u001B[0;34m(self)\u001B[0m\n\u001B[1;32m    171\u001B[0m \u001B[0;34m\u001B[0m\u001B[0m\n\u001B[1;32m    172\u001B[0m         \u001B[0;32mdef\u001B[0m \u001B[0mview\u001B[0m\u001B[0;34m(\u001B[0m\u001B[0mself\u001B[0m\u001B[0;34m)\u001B[0m\u001B[0;34m:\u001B[0m\u001B[0;34m\u001B[0m\u001B[0;34m\u001B[0m\u001B[0m\n\u001B[0;32m--> 173\u001B[0;31m                 \u001B[0;32mreturn\u001B[0m \u001B[0;34mf\"{self.preverb}-{self.imperfective}-{self.stem_neutral}-{self.causative}-{self.passive}-{self.agreement}\"\u001B[0m\u001B[0;34m\u001B[0m\u001B[0;34m\u001B[0m\u001B[0m\n\u001B[0m\u001B[1;32m    174\u001B[0m \u001B[0;34m\u001B[0m\u001B[0m\n\u001B[1;32m    175\u001B[0m \u001B[0;34m\u001B[0m\u001B[0m\n",
      "\u001B[0;31mAttributeError\u001B[0m: 'PresentInflector' object has no attribute 'imperfective'"
     ]
    }
   ],
   "source": [
    "class Positions:\n",
    "\tPM3 = 'p-3'\n",
    "\tP0A = 'p0a'\n",
    "\tP0B = 'p0b'\n",
    "\tPP1 = 'p+1'\n",
    "\tPP2 = 'p+2'\n",
    "\tPP4 = 'p+4'\n",
    "\tTRANS = 'stem transitivity'\n",
    "\tMEANING = 'meaning'\n",
    "\n",
    "\n",
    "class Morpheme:\n",
    "\tNULL = '∅'\n",
    "\tA = '-ʌ'\n",
    "\tEM = '-em'\n",
    "\tI = '-i'\n",
    "\tE = '-e'\n",
    "\tIE = '-iɛ'\n",
    "\tOM = '-om'\n",
    "\tENDE = '-endɛ'\n",
    "\tME = 'me-'\n",
    "\n",
    "\n",
    "class Person:\n",
    "\tFS = 'first person singular'\n",
    "\tSS = 'second person singular'\n",
    "\tTSM = 'third person singular masculine'\n",
    "\tTSF = 'third person singular feminine'\n",
    "\tFP = 'first person plural'\n",
    "\tSP = 'second person plural'\n",
    "\tTP = 'third person plural'\n",
    "\n",
    "\t@classmethod\n",
    "\tdef to_list(cls):\n",
    "\t\treturn [cls.FS, cls.SS, cls.TSM, cls.TSF, cls.FP, cls.SP, cls.TP]\n",
    "\n",
    "\n",
    "\n",
    "class Modality:\n",
    "\tIMP = 'imperative'\n",
    "\tSBJ = 'subjunctive'\n",
    "\tIND = 'indicative'\n",
    "\n",
    "\t@classmethod\n",
    "\tdef to_list(cls):\n",
    "\t\treturn [cls.IMP, cls.SBJ, cls.IND]\n",
    "\n",
    "\n",
    "class Aspect:\n",
    "\tIPF = 'imperfective'\n",
    "\tPRF = 'perfect'\n",
    "\tPLU = 'pluperfect'\n",
    "\tUN = 'unmarked'\n",
    "\n",
    "\t@classmethod\n",
    "\tdef to_list(cls):\n",
    "\t\treturn [cls.IPF, cls.PRF, cls.PLU, cls.UN]\n",
    "\n",
    "\n",
    "class Polarity:\n",
    "\tNEG = 'negative'\n",
    "\tAFF = 'affirmative'\n",
    "\n",
    "\n",
    "class InvalidInflectionError(Exception):\n",
    "\tdef __init__(self, message = 'inflection does not exist'):\n",
    "\t\tself.message = message\n",
    "\t\tsuper().__init__(self, self.message)\n",
    "\n",
    "\n",
    "class InflectorBase:\n",
    "\tpreverb: str\n",
    "\timperfective: str\n",
    "\tnegation: str\n",
    "\tstem_neutral: str\n",
    "\tstem_past: str\n",
    "\tcausative: str\n",
    "\tpassive: str\n",
    "\tpast: str\n",
    "\tagreement: str\n",
    "\n",
    "\taspect: str\n",
    "\tmodality: str\n",
    "\tpolarity: str\n",
    "\tperson: str\n",
    "\n",
    "\trow: Series\n",
    "\n",
    "\tdef __init__(self,\n",
    "\t             row: Series,\n",
    "\t             modality: str,\n",
    "\t\t\t\t person: str,\n",
    "\t             aspect: str,\n",
    "\t             polarity = ''):\n",
    "\t\tself.row = row\n",
    "\t\tself.modality = modality\n",
    "\t\tself.person = person\n",
    "\t\tself.aspect = aspect\n",
    "\t\tself.polarity = polarity\n",
    "\n",
    "\n",
    "\t\"\"\"append preverb- in template (P-3).\"\"\"\n",
    "\tdef set_preverb(self):\n",
    "\t\tself.preverb = self.row[Positions.PM3]\n",
    "\n",
    "\t\"\"\"append stem-neutral (P0A) under Stem\"\"\"\n",
    "\tdef set_stem_neutral(self):\n",
    "\t\tself.stem_neutral = self.row[Positions.P0A]\n",
    "\n",
    "\t\"\"\"append -den if filled in the verb list, under Causative (PP1)\"\"\"\n",
    "\tdef set_causative(self):\n",
    "\t\tself.causative = self.row[Positions.PP1]\n",
    "\n",
    "\t\"\"\"append -i if filled in in the verb list under Passive (PP2)\"\"\"\n",
    "\tdef set_passive(self):\n",
    "\t\tself.passive = self.row[Positions.PP2]\n",
    "\n",
    "\n",
    "\n",
    "class PresentInflector(InflectorBase):\n",
    "\t__tense = 'present'\n",
    "\n",
    "\t\"\"\"\n",
    "        If P+2 is not occupied & mod is imperative:\n",
    "            Insert AGR in p+4: ∅ for 2s/ -ʌ for 2p\n",
    "        elif modality is chosen as subjunctive or indicative:\n",
    "            Insert -em for 1s/ -i for 2s/ -e for 3sm/ -iɛ for 3sf/ -om for 1p/ -ʌ for 2p, -endɛ for 3p\n",
    "        else:\n",
    "            IF modality is indictative and aspect is imperfective:\n",
    "                Insert me- in P-2\n",
    "                If p-3 is filled with be-/de-, delete be/-de\n",
    "    \"\"\"\n",
    "\n",
    "\tdef set_agreement(self):\n",
    "\t\tif self.row[Positions.PP2] is None and self.modality == Modality.IMP:\n",
    "\t\t\tif self.person == Person.SS:\n",
    "\t\t\t\tself.agreement = Morpheme.NULL\n",
    "\t\t\telif self.person == Person.SP:\n",
    "\t\t\t\tself.agreement = Morpheme.A\n",
    "\t\t\telse:\n",
    "\t\t\t\traise InvalidInflectionError()\n",
    "\t\telif self.modality == Modality.SBJ or self.modality == Modality.IND:\n",
    "\t\t\tif self.person == Person.FS:\n",
    "\t\t\t\tself.agreement = Morpheme.EM\n",
    "\t\t\telif self.person == Person.SS:\n",
    "\t\t\t\tself.agreement = Morpheme.I\n",
    "\t\t\telif self.person == Person.TSM:\n",
    "\t\t\t\tself.agreement = Morpheme.E\n",
    "\t\t\telif self.person == Person.TSF:\n",
    "\t\t\t\tself.agreement = Morpheme.IE\n",
    "\t\t\telif self.person == Person.FP:\n",
    "\t\t\t\tself.agreement = Morpheme.OM\n",
    "\t\t\telif self.person == Person.SP:\n",
    "\t\t\t\tself.agreement = Morpheme.A\n",
    "\t\t\telif self.person == Person.TP:\n",
    "\t\t\t\tself.agreement = Morpheme.ENDE\n",
    "\t\telse:\n",
    "\t\t\tif self.modality == Modality.IND and self.aspect == Aspect.IPF:\n",
    "\t\t\t\tself.imperfective = Morpheme.ME\n",
    "\t\t\t\tself.preverb =  Morpheme.NULL if bool(re.match('(be-)|(de-)', self.preverb)) else self.preverb\n",
    "\n",
    "\n",
    "\tdef build(self):\n",
    "\t\tself.set_preverb()\n",
    "\t\tself.set_stem_neutral()\n",
    "\t\tself.set_causative()\n",
    "\t\tself.set_passive()\n",
    "\t\tself.set_agreement()\n",
    "\t\treturn self\n",
    "\n",
    "\n",
    "\tdef view(self):\n",
    "\t\treturn f\"{self.preverb}-{self.imperfective}-{self.stem_neutral}-{self.causative}-{self.passive}-{self.agreement}\""
   ],
   "metadata": {
    "collapsed": false,
    "pycharm": {
     "name": "#%%\n"
    }
   }
  },
  {
   "cell_type": "code",
   "execution_count": null,
   "outputs": [],
   "source": [
    "verbs = []\n",
    "\n",
    "for index, row in base_forms.iterrows():\n",
    "\tfor modality in Modality.to_list():\n",
    "\t\tfor person in Person.to_list():\n",
    "\t\t\tfor aspect in Aspect.to_list():\n",
    "\t\t\t\ttry:\n",
    "\t\t\t\t\tinflector = PresentInflector(row, modality, person, aspect)\n",
    "\t\t\t\t\tverbs.append(inflector\\\n",
    "\t\t\t\t\t\t.build()\\\n",
    "\t\t\t\t\t\t.view())\n",
    "\t\t\t\texcept InvalidInflectionError as error:\n",
    "\t\t\t\t\tprint(error.message)\n",
    "\t\t\t\t\tcontinue\n",
    "\n",
    "print(set(verbs))\n"
   ],
   "metadata": {
    "collapsed": false,
    "pycharm": {
     "name": "#%%\n"
    }
   }
  },
  {
   "cell_type": "code",
   "execution_count": null,
   "outputs": [],
   "source": [
    "class A:\n",
    "\ttest = 'stupid'\n",
    "\n",
    "class B(A):\n",
    "\tdef print(self):\n",
    "\t\tprint(self.test)\n",
    "\n",
    "B().print()"
   ],
   "metadata": {
    "collapsed": false,
    "pycharm": {
     "name": "#%%\n"
    }
   }
  }
 ],
 "metadata": {
  "kernelspec": {
   "display_name": "Python 3",
   "language": "python",
   "name": "python3"
  },
  "language_info": {
   "codemirror_mode": {
    "name": "ipython",
    "version": 2
   },
   "file_extension": ".py",
   "mimetype": "text/x-python",
   "name": "python",
   "nbconvert_exporter": "python",
   "pygments_lexer": "ipython2",
   "version": "2.7.6"
  }
 },
 "nbformat": 4,
 "nbformat_minor": 0
}